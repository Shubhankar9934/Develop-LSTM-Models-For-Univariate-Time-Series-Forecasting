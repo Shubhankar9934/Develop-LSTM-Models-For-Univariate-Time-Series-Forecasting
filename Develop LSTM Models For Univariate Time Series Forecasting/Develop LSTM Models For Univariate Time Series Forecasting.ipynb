{
 "cells": [
  {
   "cell_type": "code",
   "execution_count": 1,
   "id": "e1bf15e6",
   "metadata": {},
   "outputs": [],
   "source": [
    "# Univariate LSTM examples\n",
    "import numpy as np\n",
    "from tensorflow.keras.models import Sequential\n",
    "from tensorflow.keras.layers import LSTM \n",
    "from tensorflow.keras.layers import Dense\n",
    "from tensorflow.keras.layers import Flatten"
   ]
  },
  {
   "cell_type": "code",
   "execution_count": 2,
   "id": "ff49ba51",
   "metadata": {},
   "outputs": [],
   "source": [
    "# define input sequence\n",
    "timeseries_data = [110,125,133,146,158,172,187,196,210]\n",
    "# choose a number of time steps\n",
    "n_steps = 3\n",
    "# split into samples\n",
    "#X,y = prepare_data(timeseries_data,n_features)"
   ]
  },
  {
   "cell_type": "code",
   "execution_count": 3,
   "id": "a5850a99",
   "metadata": {},
   "outputs": [],
   "source": [
    "# preparing independent and dependent features\n",
    "def prepare_data(timeseries_data,n_steps):\n",
    "    X,y = [],[]\n",
    "    for i in range(len(timeseries_data)):\n",
    "        # find the end of this pattern\n",
    "        end_ix = i + n_steps\n",
    "        # cheak if we are bayond the sequence\n",
    "        if end_ix >len(timeseries_data)-1:\n",
    "            break\n",
    "        # gather input and output parts of the pattern \n",
    "        seq_x,seq_y = timeseries_data[i:end_ix], timeseries_data[end_ix]\n",
    "        X.append(seq_x)\n",
    "        y.append(seq_y)\n",
    "    return np.array(X),np.array(y)"
   ]
  },
  {
   "cell_type": "code",
   "execution_count": 4,
   "id": "27bbaec5",
   "metadata": {},
   "outputs": [],
   "source": [
    "# split into samples\n",
    "X,y = prepare_data(timeseries_data,n_steps)"
   ]
  },
  {
   "cell_type": "code",
   "execution_count": 5,
   "id": "4175151d",
   "metadata": {},
   "outputs": [
    {
     "data": {
      "text/plain": [
       "(array([[110, 125, 133],\n",
       "        [125, 133, 146],\n",
       "        [133, 146, 158],\n",
       "        [146, 158, 172],\n",
       "        [158, 172, 187],\n",
       "        [172, 187, 196]]),\n",
       " array([146, 158, 172, 187, 196, 210]))"
      ]
     },
     "execution_count": 5,
     "metadata": {},
     "output_type": "execute_result"
    }
   ],
   "source": [
    "X,y"
   ]
  },
  {
   "cell_type": "code",
   "execution_count": 6,
   "id": "5dbf1159",
   "metadata": {},
   "outputs": [
    {
     "data": {
      "text/plain": [
       "(6, 3)"
      ]
     },
     "execution_count": 6,
     "metadata": {},
     "output_type": "execute_result"
    }
   ],
   "source": [
    "X.shape"
   ]
  },
  {
   "cell_type": "code",
   "execution_count": 7,
   "id": "7271fa03",
   "metadata": {},
   "outputs": [
    {
     "data": {
      "text/plain": [
       "(6,)"
      ]
     },
     "execution_count": 7,
     "metadata": {},
     "output_type": "execute_result"
    }
   ],
   "source": [
    "y.shape"
   ]
  },
  {
   "cell_type": "code",
   "execution_count": 8,
   "id": "176fdeb5",
   "metadata": {},
   "outputs": [],
   "source": [
    "#reshape from [samples,timesteps]  into [samples, timesteps , features]\n",
    "n_features = 1\n",
    "X = X.reshape((X.shape[0],X.shape[1],n_features))"
   ]
  },
  {
   "cell_type": "code",
   "execution_count": 9,
   "id": "9bd138e0",
   "metadata": {},
   "outputs": [
    {
     "data": {
      "text/plain": [
       "(6, 3, 1)"
      ]
     },
     "execution_count": 9,
     "metadata": {},
     "output_type": "execute_result"
    }
   ],
   "source": [
    "X.shape"
   ]
  },
  {
   "cell_type": "code",
   "execution_count": 18,
   "id": "c080ac9e",
   "metadata": {},
   "outputs": [
    {
     "data": {
      "text/plain": [
       "<keras.callbacks.History at 0x1a6f271e070>"
      ]
     },
     "execution_count": 18,
     "metadata": {},
     "output_type": "execute_result"
    }
   ],
   "source": [
    "# Building LSTM Model \n",
    "\n",
    "model = Sequential()\n",
    "model.add(LSTM(50,activation = 'relu',return_sequences = True, input_shape =(n_steps,n_features)))\n",
    "model.add(LSTM(50,activation = 'relu'))\n",
    "model.add(Dense(1))\n",
    "model.compile(optimizer = 'adam', loss = 'mse')\n",
    "# fit model \n",
    "model.fit(X,y,epochs = 300, verbose = 0)"
   ]
  },
  {
   "cell_type": "code",
   "execution_count": 19,
   "id": "56d5af84",
   "metadata": {},
   "outputs": [],
   "source": [
    "# model save"
   ]
  },
  {
   "cell_type": "code",
   "execution_count": 20,
   "id": "0c1b2cfa",
   "metadata": {},
   "outputs": [
    {
     "name": "stdout",
     "output_type": "stream",
     "text": [
      "[224.38495]\n",
      "1 day input [196.         210.         224.38494873]\n",
      "1 day output [[236.33838]] \n",
      "2 day input [210.         224.38494873 236.33837891]\n",
      "2 day output [[250.74922]] \n",
      "3 day input [224.38495 236.33838 250.74922]\n",
      "3 day output [[264.9969]] \n",
      "4 day input [236.33838 250.74922 264.9969 ]\n",
      "4 day output [[278.91434]] \n",
      "5 day input [250.74922 264.9969  278.91434]\n",
      "5 day output [[294.15176]] \n",
      "6 day input [264.9969  278.91434 294.15176]\n",
      "6 day output [[309.48138]] \n",
      "7 day input [278.91434 294.15176 309.48138]\n",
      "7 day output [[325.2047]] \n",
      "8 day input [294.15176 309.48138 325.2047 ]\n",
      "8 day output [[341.833]] \n",
      "9 day input [309.48138 325.2047  341.833  ]\n",
      "9 day output [[358.8625]] \n",
      "[224.38495, 236.33838, 250.74922, 264.9969, 278.91434, 294.15176, 309.48138, 325.2047, 341.833, 358.8625]\n"
     ]
    }
   ],
   "source": [
    "# Demonstrate prediction for next 10 days\n",
    "x_input = np.array([187,196,210])\n",
    "temp_input = list(x_input)\n",
    "lst_output = []\n",
    "i=0\n",
    "while(i<10):\n",
    "    \n",
    "    if(len(temp_input)>3):\n",
    "        x_input = np.array(temp_input[1:])\n",
    "        print(\"{} day input {}\".format(i,x_input))\n",
    "        # print(x_input)\n",
    "        x_input = x_input.reshape((1,n_steps,n_features))\n",
    "        # print(x_input)\n",
    "        yhat = model.predict(x_input,verbose=0)\n",
    "        print(\"{} day output {} \".format(i,yhat))\n",
    "        temp_input.append(yhat[0][0])\n",
    "        temp_input = temp_input[1:]\n",
    "        # Print(temp_input)\n",
    "        lst_output.append(yhat[0][0])\n",
    "        i=i+1\n",
    "    else:\n",
    "        x_input = x_input.reshape((1,n_steps,n_features))\n",
    "        yhat = model.predict(x_input , verbose = 0)\n",
    "        print(yhat[0])\n",
    "        temp_input.append(yhat[0][0])\n",
    "        lst_output.append(yhat[0][0])\n",
    "        i=i+1\n",
    "\n",
    "print(lst_output)"
   ]
  },
  {
   "cell_type": "code",
   "execution_count": 22,
   "id": "a9b70f5c",
   "metadata": {},
   "outputs": [],
   "source": [
    "# Visualizing The Output\n",
    "import matplotlib.pyplot as plt"
   ]
  },
  {
   "cell_type": "code",
   "execution_count": 25,
   "id": "19fb1910",
   "metadata": {},
   "outputs": [],
   "source": [
    "day_new = np.arange(1,10)\n",
    "day_pred = np.arange(10,20)\n"
   ]
  },
  {
   "cell_type": "code",
   "execution_count": 26,
   "id": "2103cde0",
   "metadata": {},
   "outputs": [
    {
     "data": {
      "text/plain": [
       "[<matplotlib.lines.Line2D at 0x1a6f7bb8850>]"
      ]
     },
     "execution_count": 26,
     "metadata": {},
     "output_type": "execute_result"
    },
    {
     "data": {
      "image/png": "[encoded data removed]",
      "text/plain": [
       "<Figure size 432x288 with 1 Axes>"
      ]
     },
     "metadata": {
      "needs_background": "light"
     },
     "output_type": "display_data"
    }
   ],
   "source": [
    "plt.plot(day_new,timeseries_data)\n",
    "plt.plot(day_pred,lst_output)"
   ]
  },
  {
   "cell_type": "code",
   "execution_count": null,
   "id": "9289bec9",
   "metadata": {},
   "outputs": [],
   "source": []
  }
 ],
 "metadata": {
  "kernelspec": {
   "display_name": "Python 3 (ipykernel)",
   "language": "python",
   "name": "python3"
  },
  "language_info": {
   "codemirror_mode": {
    "name": "ipython",
    "version": 3
   },
   "file_extension": ".py",
   "mimetype": "text/x-python",
   "name": "python",
   "nbconvert_exporter": "python",
   "pygments_lexer": "ipython3",
   "version": "3.9.12"
  }
 },
 "nbformat": 4,
 "nbformat_minor": 5
}
